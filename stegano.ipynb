{
 "cells": [
  {
   "cell_type": "code",
   "execution_count": 1,
   "metadata": {},
   "outputs": [
    {
     "name": "stdout",
     "output_type": "stream",
     "text": [
      "Requirement already satisfied: pillow in c:\\users\\meriem\\anaconda3\\lib\\site-packages (9.4.0)\n",
      "Note: you may need to restart the kernel to use updated packages.\n"
     ]
    }
   ],
   "source": [
    "#pip install pillow\n"
   ]
  },
  {
   "cell_type": "code",
   "execution_count": 1,
   "metadata": {},
   "outputs": [],
   "source": [
    "from PIL import Image\n",
    "import numpy as np"
   ]
  },
  {
   "cell_type": "code",
   "execution_count": 10,
   "metadata": {},
   "outputs": [],
   "source": [
    "chemin_image = \"C:/Users/Meriem/Documents/projet/steganographie/RM.jpg\""
   ]
  },
  {
   "cell_type": "code",
   "execution_count": 7,
   "metadata": {},
   "outputs": [],
   "source": [
    "def lsb_1(image_path, message):\n",
    "\timage_object = Image.open(image_path)\n",
    "\timage_array = np.array(image_object)\n",
    "\n",
    "\timage_array -= image_array % 2 # passage de tous les pixels en valeur pair\n",
    "\n",
    "\tbinary_message = [int(bin_number) for bin_number in ''.join(format(ord(i), '08b') for i in message)] # convert message to binary\n",
    "\n",
    "\tnumber_rows, number_cols, number_color = image_array.shape\n",
    "\tindex_binary_message = 0\n",
    "\tfor index_row in range(0, number_rows):\n",
    "\t\tfor index_col in range(0, number_cols):\n",
    "\t\t\tfor index_color in range(0, number_color):\n",
    "\t\t\t\tif index_binary_message < len(binary_message) :\n",
    "\t\t\t\t\timage_array[index_row, index_col, index_color] += binary_message[index_binary_message]\n",
    "\t\t\t\telse :\n",
    "\t\t\t\t\tbreak\n",
    "\t\t\t\tindex_binary_message += 1   \n",
    "          "
   ]
  },
  {
   "cell_type": "code",
   "execution_count": 11,
   "metadata": {},
   "outputs": [],
   "source": [
    "lsb_1(chemin_image, \"Coucou les loulous\")"
   ]
  }
 ],
 "metadata": {
  "kernelspec": {
   "display_name": "base",
   "language": "python",
   "name": "python3"
  },
  "language_info": {
   "codemirror_mode": {
    "name": "ipython",
    "version": 3
   },
   "file_extension": ".py",
   "mimetype": "text/x-python",
   "name": "python",
   "nbconvert_exporter": "python",
   "pygments_lexer": "ipython3",
   "version": "3.10.9"
  }
 },
 "nbformat": 4,
 "nbformat_minor": 2
}
